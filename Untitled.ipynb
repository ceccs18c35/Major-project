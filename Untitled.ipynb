{
 "cells": [
  {
   "cell_type": "code",
   "execution_count": 1,
   "id": "f9458575",
   "metadata": {},
   "outputs": [],
   "source": [
    "import pandas as pd\n",
    "import numpy as np"
   ]
  },
  {
   "cell_type": "markdown",
   "id": "5c92dc17",
   "metadata": {},
   "source": [
    "# readin first dataset"
   ]
  },
  {
   "cell_type": "code",
   "execution_count": 2,
   "id": "2d1f61b5",
   "metadata": {},
   "outputs": [],
   "source": [
    "df=pd.read_csv(\"datadata.csv\")"
   ]
  },
  {
   "cell_type": "code",
   "execution_count": 3,
   "id": "6ff33acc",
   "metadata": {},
   "outputs": [
    {
     "data": {
      "text/plain": [
       "(13851, 3)"
      ]
     },
     "execution_count": 3,
     "metadata": {},
     "output_type": "execute_result"
    }
   ],
   "source": [
    "df.shape"
   ]
  },
  {
   "cell_type": "code",
   "execution_count": 4,
   "id": "db2439d3",
   "metadata": {},
   "outputs": [
    {
     "data": {
      "text/html": [
       "<div>\n",
       "<style scoped>\n",
       "    .dataframe tbody tr th:only-of-type {\n",
       "        vertical-align: middle;\n",
       "    }\n",
       "\n",
       "    .dataframe tbody tr th {\n",
       "        vertical-align: top;\n",
       "    }\n",
       "\n",
       "    .dataframe thead th {\n",
       "        text-align: right;\n",
       "    }\n",
       "</style>\n",
       "<table border=\"1\" class=\"dataframe\">\n",
       "  <thead>\n",
       "    <tr style=\"text-align: right;\">\n",
       "      <th></th>\n",
       "      <th>source</th>\n",
       "      <th>label</th>\n",
       "      <th>text</th>\n",
       "    </tr>\n",
       "  </thead>\n",
       "  <tbody>\n",
       "    <tr>\n",
       "      <th>0</th>\n",
       "      <td>coronavirusmedicalkit.com</td>\n",
       "      <td>fake</td>\n",
       "      <td>You just need to add water, and the drugs and ...</td>\n",
       "    </tr>\n",
       "    <tr>\n",
       "      <th>1</th>\n",
       "      <td>RudyGiuliani</td>\n",
       "      <td>fake</td>\n",
       "      <td>Hydroxychloroquine has been shown to have a 10...</td>\n",
       "    </tr>\n",
       "    <tr>\n",
       "      <th>2</th>\n",
       "      <td>CharlieKirk</td>\n",
       "      <td>fake</td>\n",
       "      <td>Fact: Hydroxychloroquine has been shown to hav...</td>\n",
       "    </tr>\n",
       "    <tr>\n",
       "      <th>3</th>\n",
       "      <td>JoanneWrightForCongress</td>\n",
       "      <td>fake</td>\n",
       "      <td>The Corona virus is a man made virus created i...</td>\n",
       "    </tr>\n",
       "    <tr>\n",
       "      <th>4</th>\n",
       "      <td>JoanneWrightForCongress</td>\n",
       "      <td>fake</td>\n",
       "      <td>Doesnâ€™t @BillGates finance research at the W...</td>\n",
       "    </tr>\n",
       "  </tbody>\n",
       "</table>\n",
       "</div>"
      ],
      "text/plain": [
       "                      source label  \\\n",
       "0  coronavirusmedicalkit.com  fake   \n",
       "1               RudyGiuliani  fake   \n",
       "2                CharlieKirk  fake   \n",
       "3    JoanneWrightForCongress  fake   \n",
       "4    JoanneWrightForCongress  fake   \n",
       "\n",
       "                                                text  \n",
       "0  You just need to add water, and the drugs and ...  \n",
       "1  Hydroxychloroquine has been shown to have a 10...  \n",
       "2  Fact: Hydroxychloroquine has been shown to hav...  \n",
       "3  The Corona virus is a man made virus created i...  \n",
       "4  Doesnâ€™t @BillGates finance research at the W...  "
      ]
     },
     "execution_count": 4,
     "metadata": {},
     "output_type": "execute_result"
    }
   ],
   "source": [
    "df.head(5)"
   ]
  },
  {
   "cell_type": "code",
   "execution_count": 5,
   "id": "9cb02ac5",
   "metadata": {},
   "outputs": [
    {
     "data": {
      "text/plain": [
       "0       10650\n",
       "1        2636\n",
       "fake      565\n",
       "Name: label, dtype: int64"
      ]
     },
     "execution_count": 5,
     "metadata": {},
     "output_type": "execute_result"
    }
   ],
   "source": [
    "df['label'].value_counts()"
   ]
  },
  {
   "cell_type": "markdown",
   "id": "aefe4379",
   "metadata": {},
   "source": [
    "# making label fake to 0"
   ]
  },
  {
   "cell_type": "code",
   "execution_count": 6,
   "id": "887ce333",
   "metadata": {},
   "outputs": [],
   "source": [
    "df = df.replace({'label': {'fake':\"0\"}})"
   ]
  },
  {
   "cell_type": "code",
   "execution_count": 8,
   "id": "a4ee4ee9",
   "metadata": {},
   "outputs": [
    {
     "data": {
      "text/plain": [
       "0    11215\n",
       "1     2636\n",
       "Name: label, dtype: int64"
      ]
     },
     "execution_count": 8,
     "metadata": {},
     "output_type": "execute_result"
    }
   ],
   "source": [
    "df['label'].value_counts()"
   ]
  },
  {
   "cell_type": "markdown",
   "id": "9786d74c",
   "metadata": {},
   "source": [
    "# reading second dataset"
   ]
  },
  {
   "cell_type": "code",
   "execution_count": 53,
   "id": "014f3180",
   "metadata": {},
   "outputs": [],
   "source": [
    "df1=pd.read_csv(\"dataset covid.csv\")"
   ]
  },
  {
   "cell_type": "code",
   "execution_count": 29,
   "id": "ee2314e7",
   "metadata": {},
   "outputs": [
    {
     "data": {
      "text/html": [
       "<div>\n",
       "<style scoped>\n",
       "    .dataframe tbody tr th:only-of-type {\n",
       "        vertical-align: middle;\n",
       "    }\n",
       "\n",
       "    .dataframe tbody tr th {\n",
       "        vertical-align: top;\n",
       "    }\n",
       "\n",
       "    .dataframe thead th {\n",
       "        text-align: right;\n",
       "    }\n",
       "</style>\n",
       "<table border=\"1\" class=\"dataframe\">\n",
       "  <thead>\n",
       "    <tr style=\"text-align: right;\">\n",
       "      <th></th>\n",
       "      <th>id</th>\n",
       "      <th>tweet</th>\n",
       "      <th>label</th>\n",
       "    </tr>\n",
       "  </thead>\n",
       "  <tbody>\n",
       "    <tr>\n",
       "      <th>0</th>\n",
       "      <td>1</td>\n",
       "      <td>Our daily update is published. States reported...</td>\n",
       "      <td>real</td>\n",
       "    </tr>\n",
       "    <tr>\n",
       "      <th>1</th>\n",
       "      <td>2</td>\n",
       "      <td>Alfalfa is the only cure for COVID-19.</td>\n",
       "      <td>fake</td>\n",
       "    </tr>\n",
       "    <tr>\n",
       "      <th>2</th>\n",
       "      <td>3</td>\n",
       "      <td>President Trump Asked What He Would Do If He W...</td>\n",
       "      <td>fake</td>\n",
       "    </tr>\n",
       "  </tbody>\n",
       "</table>\n",
       "</div>"
      ],
      "text/plain": [
       "   id                                              tweet label\n",
       "0   1  Our daily update is published. States reported...  real\n",
       "1   2             Alfalfa is the only cure for COVID-19.  fake\n",
       "2   3  President Trump Asked What He Would Do If He W...  fake"
      ]
     },
     "execution_count": 29,
     "metadata": {},
     "output_type": "execute_result"
    }
   ],
   "source": [
    "df1.head(3)"
   ]
  },
  {
   "cell_type": "code",
   "execution_count": 30,
   "id": "b86e8eb8",
   "metadata": {},
   "outputs": [
    {
     "data": {
      "text/plain": [
       "real    1120\n",
       "fake    1020\n",
       "Name: label, dtype: int64"
      ]
     },
     "execution_count": 30,
     "metadata": {},
     "output_type": "execute_result"
    }
   ],
   "source": [
    "df1[\"label\"].value_counts()"
   ]
  },
  {
   "cell_type": "code",
   "execution_count": null,
   "id": "e10f0d42",
   "metadata": {},
   "outputs": [],
   "source": []
  },
  {
   "cell_type": "code",
   "execution_count": 54,
   "id": "9eb6fc13",
   "metadata": {},
   "outputs": [
    {
     "data": {
      "text/plain": [
       "real    1120\n",
       "fake    1020\n",
       "Name: label, dtype: int64"
      ]
     },
     "execution_count": 54,
     "metadata": {},
     "output_type": "execute_result"
    }
   ],
   "source": [
    "df1[\"label\"].value_counts()"
   ]
  },
  {
   "cell_type": "markdown",
   "id": "a79445b1",
   "metadata": {},
   "source": [
    "# dropping fake news"
   ]
  },
  {
   "cell_type": "code",
   "execution_count": 55,
   "id": "647c3829",
   "metadata": {},
   "outputs": [],
   "source": [
    "df1.drop(df1[df1['label'] == \"fake\"].index, inplace=True)"
   ]
  },
  {
   "cell_type": "markdown",
   "id": "9466c6d1",
   "metadata": {},
   "source": [
    "# current count of the dataset"
   ]
  },
  {
   "cell_type": "code",
   "execution_count": 56,
   "id": "ae661789",
   "metadata": {},
   "outputs": [
    {
     "data": {
      "text/plain": [
       "real    1120\n",
       "Name: label, dtype: int64"
      ]
     },
     "execution_count": 56,
     "metadata": {},
     "output_type": "execute_result"
    }
   ],
   "source": [
    "df1[\"label\"].value_counts()"
   ]
  },
  {
   "cell_type": "code",
   "execution_count": 64,
   "id": "15e858f4",
   "metadata": {},
   "outputs": [],
   "source": [
    "## irrelevant code"
   ]
  },
  {
   "cell_type": "code",
   "execution_count": 41,
   "id": "2304b99d",
   "metadata": {},
   "outputs": [
    {
     "data": {
      "text/plain": [
       "Series([], Name: label, dtype: int64)"
      ]
     },
     "execution_count": 41,
     "metadata": {},
     "output_type": "execute_result"
    }
   ],
   "source": [
    "df3[\"label\"].value_counts()"
   ]
  },
  {
   "cell_type": "code",
   "execution_count": 39,
   "id": "0a4472b7",
   "metadata": {},
   "outputs": [
    {
     "data": {
      "text/html": [
       "<div>\n",
       "<style scoped>\n",
       "    .dataframe tbody tr th:only-of-type {\n",
       "        vertical-align: middle;\n",
       "    }\n",
       "\n",
       "    .dataframe tbody tr th {\n",
       "        vertical-align: top;\n",
       "    }\n",
       "\n",
       "    .dataframe thead th {\n",
       "        text-align: right;\n",
       "    }\n",
       "</style>\n",
       "<table border=\"1\" class=\"dataframe\">\n",
       "  <thead>\n",
       "    <tr style=\"text-align: right;\">\n",
       "      <th></th>\n",
       "      <th>source</th>\n",
       "      <th>label</th>\n",
       "      <th>text</th>\n",
       "      <th>id</th>\n",
       "      <th>tweet</th>\n",
       "    </tr>\n",
       "  </thead>\n",
       "  <tbody>\n",
       "  </tbody>\n",
       "</table>\n",
       "</div>"
      ],
      "text/plain": [
       "Empty DataFrame\n",
       "Columns: [source, label, text, id, tweet]\n",
       "Index: []"
      ]
     },
     "execution_count": 39,
     "metadata": {},
     "output_type": "execute_result"
    }
   ],
   "source": [
    "df3.head(3)"
   ]
  },
  {
   "cell_type": "markdown",
   "id": "6a640acc",
   "metadata": {},
   "source": [
    "# Merging Two datsets"
   ]
  },
  {
   "cell_type": "code",
   "execution_count": null,
   "id": "c9e462b6",
   "metadata": {},
   "outputs": [],
   "source": []
  },
  {
   "cell_type": "code",
   "execution_count": 58,
   "id": "392c40b4",
   "metadata": {},
   "outputs": [],
   "source": [
    "frames = [df, df1]\n",
    "\n",
    "result = pd.concat(frames)"
   ]
  },
  {
   "cell_type": "code",
   "execution_count": 59,
   "id": "65e5b067",
   "metadata": {},
   "outputs": [
    {
     "data": {
      "text/html": [
       "<div>\n",
       "<style scoped>\n",
       "    .dataframe tbody tr th:only-of-type {\n",
       "        vertical-align: middle;\n",
       "    }\n",
       "\n",
       "    .dataframe tbody tr th {\n",
       "        vertical-align: top;\n",
       "    }\n",
       "\n",
       "    .dataframe thead th {\n",
       "        text-align: right;\n",
       "    }\n",
       "</style>\n",
       "<table border=\"1\" class=\"dataframe\">\n",
       "  <thead>\n",
       "    <tr style=\"text-align: right;\">\n",
       "      <th></th>\n",
       "      <th>source</th>\n",
       "      <th>label</th>\n",
       "      <th>text</th>\n",
       "      <th>id</th>\n",
       "      <th>tweet</th>\n",
       "    </tr>\n",
       "  </thead>\n",
       "  <tbody>\n",
       "    <tr>\n",
       "      <th>0</th>\n",
       "      <td>coronavirusmedicalkit.com</td>\n",
       "      <td>0</td>\n",
       "      <td>You just need to add water, and the drugs and ...</td>\n",
       "      <td>NaN</td>\n",
       "      <td>NaN</td>\n",
       "    </tr>\n",
       "    <tr>\n",
       "      <th>1</th>\n",
       "      <td>RudyGiuliani</td>\n",
       "      <td>0</td>\n",
       "      <td>Hydroxychloroquine has been shown to have a 10...</td>\n",
       "      <td>NaN</td>\n",
       "      <td>NaN</td>\n",
       "    </tr>\n",
       "    <tr>\n",
       "      <th>2</th>\n",
       "      <td>CharlieKirk</td>\n",
       "      <td>0</td>\n",
       "      <td>Fact: Hydroxychloroquine has been shown to hav...</td>\n",
       "      <td>NaN</td>\n",
       "      <td>NaN</td>\n",
       "    </tr>\n",
       "  </tbody>\n",
       "</table>\n",
       "</div>"
      ],
      "text/plain": [
       "                      source label  \\\n",
       "0  coronavirusmedicalkit.com     0   \n",
       "1               RudyGiuliani     0   \n",
       "2                CharlieKirk     0   \n",
       "\n",
       "                                                text  id tweet  \n",
       "0  You just need to add water, and the drugs and ... NaN   NaN  \n",
       "1  Hydroxychloroquine has been shown to have a 10... NaN   NaN  \n",
       "2  Fact: Hydroxychloroquine has been shown to hav... NaN   NaN  "
      ]
     },
     "execution_count": 59,
     "metadata": {},
     "output_type": "execute_result"
    }
   ],
   "source": [
    "result.head(3)"
   ]
  },
  {
   "cell_type": "code",
   "execution_count": 60,
   "id": "4730568e",
   "metadata": {},
   "outputs": [
    {
     "data": {
      "text/plain": [
       "0       11215\n",
       "1        2636\n",
       "real     1120\n",
       "Name: label, dtype: int64"
      ]
     },
     "execution_count": 60,
     "metadata": {},
     "output_type": "execute_result"
    }
   ],
   "source": [
    "result[\"label\"].value_counts()"
   ]
  },
  {
   "cell_type": "markdown",
   "id": "8e4da65c",
   "metadata": {},
   "source": [
    " result = result.replace({'label': {'real':\"1\"}})"
   ]
  },
  {
   "cell_type": "markdown",
   "id": "e74e92a2",
   "metadata": {},
   "source": [
    "# incremented  the count of news labeled =1"
   ]
  },
  {
   "cell_type": "code",
   "execution_count": 62,
   "id": "885dd2fd",
   "metadata": {},
   "outputs": [
    {
     "data": {
      "text/plain": [
       "0    11215\n",
       "1     3756\n",
       "Name: label, dtype: int64"
      ]
     },
     "execution_count": 62,
     "metadata": {},
     "output_type": "execute_result"
    }
   ],
   "source": [
    "result[\"label\"].value_counts()"
   ]
  },
  {
   "cell_type": "markdown",
   "id": "263945a7",
   "metadata": {},
   "source": [
    "# old dataset"
   ]
  },
  {
   "cell_type": "markdown",
   "id": "23ae907a",
   "metadata": {},
   "source": []
  },
  {
   "cell_type": "code",
   "execution_count": 63,
   "id": "a2edc4b5",
   "metadata": {},
   "outputs": [
    {
     "data": {
      "text/plain": [
       "0    11215\n",
       "1     2636\n",
       "Name: label, dtype: int64"
      ]
     },
     "execution_count": 63,
     "metadata": {},
     "output_type": "execute_result"
    }
   ],
   "source": [
    "df[\"label\"].value_counts()"
   ]
  }
 ],
 "metadata": {
  "kernelspec": {
   "display_name": "Python 3 (ipykernel)",
   "language": "python",
   "name": "python3"
  },
  "language_info": {
   "codemirror_mode": {
    "name": "ipython",
    "version": 3
   },
   "file_extension": ".py",
   "mimetype": "text/x-python",
   "name": "python",
   "nbconvert_exporter": "python",
   "pygments_lexer": "ipython3",
   "version": "3.9.7"
  }
 },
 "nbformat": 4,
 "nbformat_minor": 5
}
